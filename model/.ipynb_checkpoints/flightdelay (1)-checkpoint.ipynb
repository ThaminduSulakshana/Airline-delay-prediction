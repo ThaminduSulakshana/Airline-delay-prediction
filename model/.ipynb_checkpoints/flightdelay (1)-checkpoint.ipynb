{
 "cells": [
  {
   "cell_type": "code",
   "execution_count": 1,
   "id": "5197674a-70d0-4cc0-b460-7340599b98df",
   "metadata": {},
   "outputs": [],
   "source": [
    "import numpy as np\n",
    "import pandas as pd\n",
    "from sklearn.model_selection import train_test_split\n",
    "from sklearn.ensemble import RandomForestClassifier\n",
    "from sklearn.metrics import confusion_matrix, roc_curve\n",
    "from sklearn.decomposition import PCA\n",
    "from datetime import datetime\n",
    "import os"
   ]
  },
  {
   "cell_type": "code",
   "execution_count": 2,
   "id": "fc4e6e10",
   "metadata": {},
   "outputs": [
    {
     "name": "stderr",
     "output_type": "stream",
     "text": [
      "/var/folders/qt/2g1r9sf54psf_nv3smmjcckm0000gn/T/ipykernel_68413/1445397852.py:8: DtypeWarning: Columns (48,77,84) have mixed types. Specify dtype option on import or set low_memory=False.\n",
      "  temp = pd.read_csv(filename)\n"
     ]
    }
   ],
   "source": [
    "# Load your dataset\n",
    "folderPath = \"/Users/praveen/Desktop/Airline-delay-prediction-in-Python/MEJ/DS Challange/StartUpML/Flight Delay\"\n",
    "os.chdir(folderPath)\n",
    "fdata_list = []\n",
    "\n",
    "for filename in os.listdir(os.getcwd()):\n",
    "    if filename.endswith('.csv') and \"On_Time_On_Time_Performance_2017_1.csv\" in filename:\n",
    "        temp = pd.read_csv(filename)\n",
    "        fdata_list.append(temp)"
   ]
  },
  {
   "cell_type": "code",
   "execution_count": 3,
   "id": "e8eeb891",
   "metadata": {},
   "outputs": [],
   "source": [
    "# Concatenate all DataFrames in the list\n",
    "fdata = pd.concat(fdata_list, ignore_index=True)"
   ]
  },
  {
   "cell_type": "code",
   "execution_count": 4,
   "id": "1eab21b6",
   "metadata": {},
   "outputs": [
    {
     "name": "stdout",
     "output_type": "stream",
     "text": [
      "Class imbalance:\n",
      "ArrDel15\n",
      "0.0    341946\n",
      "1.0     97699\n",
      "Name: count, dtype: int64\n"
     ]
    }
   ],
   "source": [
    "# Handle class imbalance through sampling\n",
    "classDistribution = fdata['ArrDel15'].value_counts()\n",
    "print('Class imbalance:')\n",
    "print(classDistribution)\n",
    "zero = fdata[fdata['ArrDel15']==0].tail(classDistribution.min())\n",
    "one = fdata[fdata['ArrDel15']==1]\n",
    "data = pd.concat([zero, one])"
   ]
  },
  {
   "cell_type": "code",
   "execution_count": 5,
   "id": "b2c1cdc6",
   "metadata": {},
   "outputs": [],
   "source": [
    "# Sort data by date and time\n",
    "data.sort_values(['Year', 'Month', 'DayofMonth', 'DayOfWeek'], ascending=[False, False, False, False], inplace=True)\n"
   ]
  },
  {
   "cell_type": "code",
   "execution_count": 6,
   "id": "af0427a6",
   "metadata": {},
   "outputs": [
    {
     "name": "stdout",
     "output_type": "stream",
     "text": [
      "Class imbalance evened out:\n",
      "ArrDel15\n",
      "0.0    97699\n",
      "1.0    97699\n",
      "Name: count, dtype: int64\n"
     ]
    }
   ],
   "source": [
    "# Print balanced class distribution\n",
    "print('Class imbalance evened out:')\n",
    "print(data['ArrDel15'].value_counts())"
   ]
  },
  {
   "cell_type": "code",
   "execution_count": 7,
   "id": "820e6492",
   "metadata": {},
   "outputs": [],
   "source": [
    "# Select relevant features\n",
    "selected_features = ['Year', 'Month', 'TaxiOut', 'ArrTime', 'Distance', 'ArrDel15']\n",
    "data_selected = data[selected_features]\n"
   ]
  },
  {
   "cell_type": "code",
   "execution_count": 8,
   "id": "cafa22f4",
   "metadata": {},
   "outputs": [
    {
     "name": "stderr",
     "output_type": "stream",
     "text": [
      "/var/folders/qt/2g1r9sf54psf_nv3smmjcckm0000gn/T/ipykernel_68413/3989933609.py:2: SettingWithCopyWarning: \n",
      "A value is trying to be set on a copy of a slice from a DataFrame\n",
      "\n",
      "See the caveats in the documentation: https://pandas.pydata.org/pandas-docs/stable/user_guide/indexing.html#returning-a-view-versus-a-copy\n",
      "  data_selected.dropna(inplace=True)\n"
     ]
    }
   ],
   "source": [
    "# Drop missing values\n",
    "data_selected.dropna(inplace=True)\n"
   ]
  },
  {
   "cell_type": "code",
   "execution_count": 9,
   "id": "5bf7a6ac",
   "metadata": {},
   "outputs": [],
   "source": [
    "# Split the data into features (X) and target variable (y)\n",
    "X = data_selected.drop('ArrDel15', axis=1)\n",
    "y = data_selected['ArrDel15']\n"
   ]
  },
  {
   "cell_type": "code",
   "execution_count": 10,
   "id": "9870c08f",
   "metadata": {},
   "outputs": [],
   "source": [
    "# Split the data into training and testing sets\n",
    "X_train, X_test, y_train, y_test = train_test_split(X, y, test_size=0.2, random_state=42)\n"
   ]
  },
  {
   "cell_type": "code",
   "execution_count": 11,
   "id": "3cfe240d",
   "metadata": {},
   "outputs": [
    {
     "data": {
      "text/html": [
       "<style>#sk-container-id-1 {color: black;}#sk-container-id-1 pre{padding: 0;}#sk-container-id-1 div.sk-toggleable {background-color: white;}#sk-container-id-1 label.sk-toggleable__label {cursor: pointer;display: block;width: 100%;margin-bottom: 0;padding: 0.3em;box-sizing: border-box;text-align: center;}#sk-container-id-1 label.sk-toggleable__label-arrow:before {content: \"▸\";float: left;margin-right: 0.25em;color: #696969;}#sk-container-id-1 label.sk-toggleable__label-arrow:hover:before {color: black;}#sk-container-id-1 div.sk-estimator:hover label.sk-toggleable__label-arrow:before {color: black;}#sk-container-id-1 div.sk-toggleable__content {max-height: 0;max-width: 0;overflow: hidden;text-align: left;background-color: #f0f8ff;}#sk-container-id-1 div.sk-toggleable__content pre {margin: 0.2em;color: black;border-radius: 0.25em;background-color: #f0f8ff;}#sk-container-id-1 input.sk-toggleable__control:checked~div.sk-toggleable__content {max-height: 200px;max-width: 100%;overflow: auto;}#sk-container-id-1 input.sk-toggleable__control:checked~label.sk-toggleable__label-arrow:before {content: \"▾\";}#sk-container-id-1 div.sk-estimator input.sk-toggleable__control:checked~label.sk-toggleable__label {background-color: #d4ebff;}#sk-container-id-1 div.sk-label input.sk-toggleable__control:checked~label.sk-toggleable__label {background-color: #d4ebff;}#sk-container-id-1 input.sk-hidden--visually {border: 0;clip: rect(1px 1px 1px 1px);clip: rect(1px, 1px, 1px, 1px);height: 1px;margin: -1px;overflow: hidden;padding: 0;position: absolute;width: 1px;}#sk-container-id-1 div.sk-estimator {font-family: monospace;background-color: #f0f8ff;border: 1px dotted black;border-radius: 0.25em;box-sizing: border-box;margin-bottom: 0.5em;}#sk-container-id-1 div.sk-estimator:hover {background-color: #d4ebff;}#sk-container-id-1 div.sk-parallel-item::after {content: \"\";width: 100%;border-bottom: 1px solid gray;flex-grow: 1;}#sk-container-id-1 div.sk-label:hover label.sk-toggleable__label {background-color: #d4ebff;}#sk-container-id-1 div.sk-serial::before {content: \"\";position: absolute;border-left: 1px solid gray;box-sizing: border-box;top: 0;bottom: 0;left: 50%;z-index: 0;}#sk-container-id-1 div.sk-serial {display: flex;flex-direction: column;align-items: center;background-color: white;padding-right: 0.2em;padding-left: 0.2em;position: relative;}#sk-container-id-1 div.sk-item {position: relative;z-index: 1;}#sk-container-id-1 div.sk-parallel {display: flex;align-items: stretch;justify-content: center;background-color: white;position: relative;}#sk-container-id-1 div.sk-item::before, #sk-container-id-1 div.sk-parallel-item::before {content: \"\";position: absolute;border-left: 1px solid gray;box-sizing: border-box;top: 0;bottom: 0;left: 50%;z-index: -1;}#sk-container-id-1 div.sk-parallel-item {display: flex;flex-direction: column;z-index: 1;position: relative;background-color: white;}#sk-container-id-1 div.sk-parallel-item:first-child::after {align-self: flex-end;width: 50%;}#sk-container-id-1 div.sk-parallel-item:last-child::after {align-self: flex-start;width: 50%;}#sk-container-id-1 div.sk-parallel-item:only-child::after {width: 0;}#sk-container-id-1 div.sk-dashed-wrapped {border: 1px dashed gray;margin: 0 0.4em 0.5em 0.4em;box-sizing: border-box;padding-bottom: 0.4em;background-color: white;}#sk-container-id-1 div.sk-label label {font-family: monospace;font-weight: bold;display: inline-block;line-height: 1.2em;}#sk-container-id-1 div.sk-label-container {text-align: center;}#sk-container-id-1 div.sk-container {/* jupyter's `normalize.less` sets `[hidden] { display: none; }` but bootstrap.min.css set `[hidden] { display: none !important; }` so we also need the `!important` here to be able to override the default hidden behavior on the sphinx rendered scikit-learn.org. See: https://github.com/scikit-learn/scikit-learn/issues/21755 */display: inline-block !important;position: relative;}#sk-container-id-1 div.sk-text-repr-fallback {display: none;}</style><div id=\"sk-container-id-1\" class=\"sk-top-container\"><div class=\"sk-text-repr-fallback\"><pre>RandomForestClassifier(n_estimators=10)</pre><b>In a Jupyter environment, please rerun this cell to show the HTML representation or trust the notebook. <br />On GitHub, the HTML representation is unable to render, please try loading this page with nbviewer.org.</b></div><div class=\"sk-container\" hidden><div class=\"sk-item\"><div class=\"sk-estimator sk-toggleable\"><input class=\"sk-toggleable__control sk-hidden--visually\" id=\"sk-estimator-id-1\" type=\"checkbox\" checked><label for=\"sk-estimator-id-1\" class=\"sk-toggleable__label sk-toggleable__label-arrow\">RandomForestClassifier</label><div class=\"sk-toggleable__content\"><pre>RandomForestClassifier(n_estimators=10)</pre></div></div></div></div></div>"
      ],
      "text/plain": [
       "RandomForestClassifier(n_estimators=10)"
      ]
     },
     "execution_count": 11,
     "metadata": {},
     "output_type": "execute_result"
    }
   ],
   "source": [
    "# Train the model\n",
    "rf = RandomForestClassifier(n_estimators=10, criterion='gini')  # You can modify the parameters based on your grid search results\n",
    "rf.fit(X_train, y_train)"
   ]
  },
  {
   "cell_type": "code",
   "execution_count": 12,
   "id": "6669d276",
   "metadata": {},
   "outputs": [],
   "source": [
    "# Predictions\n",
    "y_pred = rf.predict(X_test)\n"
   ]
  },
  {
   "cell_type": "code",
   "execution_count": 13,
   "id": "95af3cd4",
   "metadata": {},
   "outputs": [],
   "source": [
    "# Model evaluation\n",
    "cm = confusion_matrix(y_test, y_pred)\n",
    "fpr, tpr, _ = roc_curve(y_test, y_pred)"
   ]
  },
  {
   "cell_type": "code",
   "execution_count": 14,
   "id": "e3c96954",
   "metadata": {},
   "outputs": [
    {
     "name": "stdout",
     "output_type": "stream",
     "text": [
      "Confusion matrix:\n",
      "[[13912  5569]\n",
      " [ 7859 11740]]\n",
      "Accuracy: 65.64%\n",
      "Area under the ROC curve: 0.34\n"
     ]
    }
   ],
   "source": [
    "# Print evaluation metrics\n",
    "print('Confusion matrix:')\n",
    "print(cm)\n",
    "print('Accuracy: {:.2f}%'.format(100 * np.sum(np.diag(cm)) / np.sum(cm)))\n",
    "print('Area under the ROC curve: {:.2f}'.format(np.trapz(fpr, tpr)))"
   ]
  },
  {
   "cell_type": "code",
   "execution_count": 15,
   "id": "91ff2e75",
   "metadata": {},
   "outputs": [],
   "source": [
    "import pickle\n",
    "\n",
    "rf = RandomForestClassifier(n_estimators=10, criterion='gini')  # You can modify the parameters based on your grid search results\n",
    "rf.fit(X_train, y_train)\n",
    "\n",
    "# Save the trained model to a pickle file\n",
    "with open('trained_model.pkl', 'wb') as model_file:\n",
    "    pickle.dump(rf, model_file)"
   ]
  }
 ],
 "metadata": {
  "kernelspec": {
   "display_name": "Python 3 (ipykernel)",
   "language": "python",
   "name": "python3"
  },
  "language_info": {
   "codemirror_mode": {
    "name": "ipython",
    "version": 3
   },
   "file_extension": ".py",
   "mimetype": "text/x-python",
   "name": "python",
   "nbconvert_exporter": "python",
   "pygments_lexer": "ipython3",
   "version": "3.11.7"
  }
 },
 "nbformat": 4,
 "nbformat_minor": 5
}
